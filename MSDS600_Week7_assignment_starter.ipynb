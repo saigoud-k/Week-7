{
 "cells": [
  {
   "cell_type": "markdown",
   "id": "73fa2b84",
   "metadata": {},
   "source": [
    "# Week 7 Assignment"
   ]
  },
  {
   "cell_type": "markdown",
   "id": "f48ee1c5",
   "metadata": {},
   "source": [
    "This week we are collecting some data from Reddit and doing some basic EDA on it. You should:\n",
    "\n",
    "- create your Reddit account and API keys\n",
    "- collect data from a subreddit of your choice\n",
    "    - at a minimum, collect the posts from the subreddit; optionally collect comments on the posts\n",
    "- save the data to a SQLite3 database\n",
    "- perform some basic EDA on the data\n",
    "    - create at least 2 plots\n",
    "- write a short analysis at the end describing the process and results\n",
    "- turn in the Jupyter Notebook and PDF printout or export to the week 7 dropbox\n",
    "\n",
    "***Optional* advanced section**\n",
    "- Practice SQL queries and select a subsection of the posts you collected\n",
    "- Modify your code to collect data beyond the 1000 item limit\n",
    "- Collect comments from the posts for analysis next week and do some EDA on the comments (e.g. who is the top commenter, which commenters have the most up and down votes or most controversial posts, etc)\n",
    "- examine n-grams ([bigrams](https://stackoverflow.com/a/37651184/4549682), trigrams) or [collocations](https://www.geeksforgeeks.org/nlp-word-collocations/)\n",
    "\n",
    "Note: There is no solution file for this week."
   ]
  },
  {
   "cell_type": "code",
   "execution_count": 11,
   "id": "7c87d583",
   "metadata": {},
   "outputs": [],
   "source": [
    "# !pip install praw matplotlib wordcloud textblob pandas"
   ]
  },
  {
   "cell_type": "code",
   "execution_count": 48,
   "id": "ea11d008",
   "metadata": {},
   "outputs": [],
   "source": [
    "# !conda install -c conda-forge nltk -y"
   ]
  },
  {
   "cell_type": "code",
   "execution_count": 12,
   "id": "7ea9d6fc",
   "metadata": {},
   "outputs": [],
   "source": [
    "import praw\n",
    "import pandas as pd\n",
    "import credentials\n"
   ]
  },
  {
   "cell_type": "code",
   "execution_count": 13,
   "id": "4bdb30b2",
   "metadata": {},
   "outputs": [
    {
     "data": {
      "text/plain": [
       "<praw.reddit.Reddit at 0x21b0f732ef0>"
      ]
     },
     "execution_count": 13,
     "metadata": {},
     "output_type": "execute_result"
    }
   ],
   "source": [
    "praw.Reddit(client_id=credentials.client_id,\n",
    "                     client_secret=credentials.client_secret,\n",
    "                     user_agent=credentials.user_agent)"
   ]
  },
  {
   "cell_type": "code",
   "execution_count": 14,
   "id": "23cd2b91",
   "metadata": {},
   "outputs": [],
   "source": [
    "client_id = 'lDFy6Nt5neJDkPmdtysrhw'\n",
    "client_secret = 'm8rDDrEaZfbQz9dKnPpQPJ8-7L45vA'\n",
    "user_agent = 'MSDS600 SMD'\n",
    "\n",
    "reddit = praw.Reddit(client_id=client_id,\n",
    "                     client_secret=client_secret,\n",
    "                     user_agent=user_agent)"
   ]
  },
  {
   "cell_type": "code",
   "execution_count": 15,
   "id": "dc9e381f",
   "metadata": {},
   "outputs": [],
   "source": [
    "co_subreddit = reddit.subreddit('Gemini').top(limit=10)\n"
   ]
  },
  {
   "cell_type": "code",
   "execution_count": 16,
   "id": "24f940b1",
   "metadata": {},
   "outputs": [
    {
     "name": "stdout",
     "output_type": "stream",
     "text": [
      "Request to list Nano 478\n",
      "The twins need to be held responsible 368\n",
      "Announcing The Successful Resolution of Earn 345\n",
      "Ira Financial and Gemini 312\n",
      "After weeks of no response from Gemini, I decided to ask Tyler Winklevoss for help on one of his tweets. He messaged me 10 minutes later, and within 12 hours my issue was fixed. Thank you Tyler. 243\n",
      "Congratulations!! Feel so unreal after 1.5 years. Thank you!!!! 221\n",
      "SETTLEMENT HAS BEEN APPROVED BY JUDGE LANE  221\n",
      "Email pertaining to the new updates 213\n",
      "LIKE THIS POST IF YOU THINK GEMINI SHOULD GIVE US BACK OUR EARN PLUS INTEREST! 208\n",
      "Distribution Available! 183\n"
     ]
    }
   ],
   "source": [
    "for post in co_subreddit:\n",
    "    print(post.title, post.score)"
   ]
  },
  {
   "cell_type": "code",
   "execution_count": 17,
   "id": "e8d1f753",
   "metadata": {},
   "outputs": [
    {
     "data": {
      "text/plain": [
       "[]"
      ]
     },
     "execution_count": 17,
     "metadata": {},
     "output_type": "execute_result"
    }
   ],
   "source": [
    "list(co_subreddit)"
   ]
  },
  {
   "cell_type": "code",
   "execution_count": 18,
   "id": "3181569c",
   "metadata": {},
   "outputs": [
    {
     "data": {
      "text/plain": [
       "Submission(id='1d3d2s6')"
      ]
     },
     "execution_count": 18,
     "metadata": {},
     "output_type": "execute_result"
    }
   ],
   "source": [
    "post"
   ]
  },
  {
   "cell_type": "code",
   "execution_count": 19,
   "id": "9b8fc486",
   "metadata": {},
   "outputs": [
    {
     "data": {
      "text/plain": [
       "183"
      ]
     },
     "execution_count": 19,
     "metadata": {},
     "output_type": "execute_result"
    }
   ],
   "source": [
    "post.score"
   ]
  },
  {
   "cell_type": "code",
   "execution_count": 20,
   "id": "2ce0270e",
   "metadata": {},
   "outputs": [
    {
     "data": {
      "text/plain": [
       "'Distribution Available!'"
      ]
     },
     "execution_count": 20,
     "metadata": {},
     "output_type": "execute_result"
    }
   ],
   "source": [
    "post.title\n"
   ]
  },
  {
   "cell_type": "code",
   "execution_count": 21,
   "id": "eda4b02c",
   "metadata": {},
   "outputs": [
    {
     "name": "stdout",
     "output_type": "stream",
     "text": [
      "/r/Gemini/comments/1d3d2s6/distribution_available/\n"
     ]
    }
   ],
   "source": [
    "sub_url = post.permalink\n",
    "print(sub_url)"
   ]
  },
  {
   "cell_type": "code",
   "execution_count": 22,
   "id": "70127439",
   "metadata": {},
   "outputs": [
    {
     "name": "stdout",
     "output_type": "stream",
     "text": [
      "https://www.reddit.com/r/india/comments/1j3ir5h/price_differences_for_users_with_black_membership/\n"
     ]
    }
   ],
   "source": [
    "base_url = 'https://www.reddit.com/r/india/comments/1j3ir5h/price_differences_for_users_with_black_membership/'\n",
    "print(base_url)"
   ]
  },
  {
   "cell_type": "code",
   "execution_count": 23,
   "id": "732a741a",
   "metadata": {},
   "outputs": [
    {
     "name": "stdout",
     "output_type": "stream",
     "text": [
      "https://www.reddit.com/r/india/comments/1j3ir5h/price_differences_for_users_with_black_membership//r/Gemini/comments/1d3d2s6/distribution_available/\n"
     ]
    }
   ],
   "source": [
    "complete_url = base_url+sub_url\n",
    "\n",
    "print(complete_url)"
   ]
  },
  {
   "cell_type": "code",
   "execution_count": 26,
   "id": "2c31f262",
   "metadata": {},
   "outputs": [],
   "source": [
    "reddit_data = {'title': [],\n",
    "              'link': [],\n",
    "              'author': [],\n",
    "              'n_comments': [],\n",
    "              'score': [],\n",
    "              'text': []}\n",
    "\n",
    "\n",
    "co_subreddit = reddit.subreddit('Gemini').top(limit=None)\n",
    "\n",
    "for post in list(co_subreddit):\n",
    "    reddit_data['title'].append(post.title)\n",
    "    reddit_data['link'].append(post.permalink)\n",
    "    if post.author is None:\n",
    "        reddit_data['author'].append('')\n",
    "    else:\n",
    "        reddit_data['author'].append(post.author.name)\n",
    "    \n",
    "    reddit_data['n_comments'].append(post.num_comments)\n",
    "    reddit_data['score'].append(post.score)\n",
    "    reddit_data['text'].append(post.selftext)"
   ]
  },
  {
   "cell_type": "code",
   "execution_count": 25,
   "id": "269613db",
   "metadata": {},
   "outputs": [],
   "source": [
    "co_df = pd.DataFrame(reddit_data)"
   ]
  },
  {
   "cell_type": "code",
   "execution_count": 27,
   "id": "94d68b62",
   "metadata": {},
   "outputs": [
    {
     "data": {
      "text/html": [
       "<div>\n",
       "<style scoped>\n",
       "    .dataframe tbody tr th:only-of-type {\n",
       "        vertical-align: middle;\n",
       "    }\n",
       "\n",
       "    .dataframe tbody tr th {\n",
       "        vertical-align: top;\n",
       "    }\n",
       "\n",
       "    .dataframe thead th {\n",
       "        text-align: right;\n",
       "    }\n",
       "</style>\n",
       "<table border=\"1\" class=\"dataframe\">\n",
       "  <thead>\n",
       "    <tr style=\"text-align: right;\">\n",
       "      <th></th>\n",
       "      <th>title</th>\n",
       "      <th>link</th>\n",
       "      <th>author</th>\n",
       "      <th>n_comments</th>\n",
       "      <th>score</th>\n",
       "      <th>text</th>\n",
       "    </tr>\n",
       "  </thead>\n",
       "  <tbody>\n",
       "    <tr>\n",
       "      <th>0</th>\n",
       "      <td>Security hold on BTC for over a month</td>\n",
       "      <td>/r/Gemini/comments/1j3hm24/security_hold_on_bt...</td>\n",
       "      <td>av8er1978</td>\n",
       "      <td>1</td>\n",
       "      <td>1</td>\n",
       "      <td>I've emailed supp multiple times, I've sent th...</td>\n",
       "    </tr>\n",
       "    <tr>\n",
       "      <th>1</th>\n",
       "      <td>Staking on Gemini</td>\n",
       "      <td>/r/Gemini/comments/1j3geo5/staking_on_gemini/</td>\n",
       "      <td>FrankieBaggaDonuts</td>\n",
       "      <td>0</td>\n",
       "      <td>1</td>\n",
       "      <td>Anyone know if we'll be getting staking on Gem...</td>\n",
       "    </tr>\n",
       "    <tr>\n",
       "      <th>2</th>\n",
       "      <td>Any promo codes?</td>\n",
       "      <td>/r/Gemini/comments/1j3970s/any_promo_codes/</td>\n",
       "      <td>Lucky-Honeydew4289</td>\n",
       "      <td>6</td>\n",
       "      <td>0</td>\n",
       "      <td>Hello, does anyone have any promo code for new...</td>\n",
       "    </tr>\n",
       "    <tr>\n",
       "      <th>3</th>\n",
       "      <td>Ask r/Gemini - Monthly Discussion Thread March...</td>\n",
       "      <td>/r/Gemini/comments/1j339d9/ask_rgemini_monthly...</td>\n",
       "      <td>Gemini_Gianna</td>\n",
       "      <td>0</td>\n",
       "      <td>0</td>\n",
       "      <td>Welcome to r/Gemini \\- Community Guidelines an...</td>\n",
       "    </tr>\n",
       "    <tr>\n",
       "      <th>4</th>\n",
       "      <td>How long after new login location can I send c...</td>\n",
       "      <td>/r/Gemini/comments/1j2vxl2/how_long_after_new_...</td>\n",
       "      <td>ZeroGirlsSB</td>\n",
       "      <td>0</td>\n",
       "      <td>0</td>\n",
       "      <td>Not really and urgent question, just curious</td>\n",
       "    </tr>\n",
       "    <tr>\n",
       "      <th>...</th>\n",
       "      <td>...</td>\n",
       "      <td>...</td>\n",
       "      <td>...</td>\n",
       "      <td>...</td>\n",
       "      <td>...</td>\n",
       "      <td>...</td>\n",
       "    </tr>\n",
       "    <tr>\n",
       "      <th>887</th>\n",
       "      <td>Are we receiving the interest for the last cou...</td>\n",
       "      <td>/r/Gemini/comments/1cuyoib/are_we_receiving_th...</td>\n",
       "      <td>Remarkable3897</td>\n",
       "      <td>48</td>\n",
       "      <td>9</td>\n",
       "      <td></td>\n",
       "    </tr>\n",
       "    <tr>\n",
       "      <th>888</th>\n",
       "      <td>Gemini update</td>\n",
       "      <td>/r/Gemini/comments/1cumf0p/gemini_update/</td>\n",
       "      <td>Pizzaholic-</td>\n",
       "      <td>67</td>\n",
       "      <td>71</td>\n",
       "      <td>We did it everyone congrats!!!</td>\n",
       "    </tr>\n",
       "    <tr>\n",
       "      <th>889</th>\n",
       "      <td>Memorandum of Decision</td>\n",
       "      <td>/r/Gemini/comments/1cujxtu/memorandum_of_decis...</td>\n",
       "      <td>Previous_Pension_309</td>\n",
       "      <td>9</td>\n",
       "      <td>11</td>\n",
       "      <td>More literature of how our funds have come tog...</td>\n",
       "    </tr>\n",
       "    <tr>\n",
       "      <th>890</th>\n",
       "      <td>Donut update 5/17/24</td>\n",
       "      <td>/r/Gemini/comments/1cuffcg/donut_update_51724/</td>\n",
       "      <td>No_Spirit_3173</td>\n",
       "      <td>44</td>\n",
       "      <td>5</td>\n",
       "      <td>Confirmation of the Plan remains under review,...</td>\n",
       "    </tr>\n",
       "    <tr>\n",
       "      <th>891</th>\n",
       "      <td>Earn</td>\n",
       "      <td>/r/Gemini/comments/1cuchkq/earn/</td>\n",
       "      <td>SithiestSithEver</td>\n",
       "      <td>24</td>\n",
       "      <td>1</td>\n",
       "      <td>Does anyone know if it’ll be next week or in t...</td>\n",
       "    </tr>\n",
       "  </tbody>\n",
       "</table>\n",
       "<p>892 rows × 6 columns</p>\n",
       "</div>"
      ],
      "text/plain": [
       "                                                 title  \\\n",
       "0                Security hold on BTC for over a month   \n",
       "1                                    Staking on Gemini   \n",
       "2                                     Any promo codes?   \n",
       "3    Ask r/Gemini - Monthly Discussion Thread March...   \n",
       "4    How long after new login location can I send c...   \n",
       "..                                                 ...   \n",
       "887  Are we receiving the interest for the last cou...   \n",
       "888                                     Gemini update    \n",
       "889                            Memorandum of Decision    \n",
       "890                               Donut update 5/17/24   \n",
       "891                                               Earn   \n",
       "\n",
       "                                                  link                author  \\\n",
       "0    /r/Gemini/comments/1j3hm24/security_hold_on_bt...             av8er1978   \n",
       "1        /r/Gemini/comments/1j3geo5/staking_on_gemini/    FrankieBaggaDonuts   \n",
       "2          /r/Gemini/comments/1j3970s/any_promo_codes/    Lucky-Honeydew4289   \n",
       "3    /r/Gemini/comments/1j339d9/ask_rgemini_monthly...         Gemini_Gianna   \n",
       "4    /r/Gemini/comments/1j2vxl2/how_long_after_new_...           ZeroGirlsSB   \n",
       "..                                                 ...                   ...   \n",
       "887  /r/Gemini/comments/1cuyoib/are_we_receiving_th...        Remarkable3897   \n",
       "888          /r/Gemini/comments/1cumf0p/gemini_update/           Pizzaholic-   \n",
       "889  /r/Gemini/comments/1cujxtu/memorandum_of_decis...  Previous_Pension_309   \n",
       "890     /r/Gemini/comments/1cuffcg/donut_update_51724/        No_Spirit_3173   \n",
       "891                   /r/Gemini/comments/1cuchkq/earn/      SithiestSithEver   \n",
       "\n",
       "     n_comments  score                                               text  \n",
       "0             1      1  I've emailed supp multiple times, I've sent th...  \n",
       "1             0      1  Anyone know if we'll be getting staking on Gem...  \n",
       "2             6      0  Hello, does anyone have any promo code for new...  \n",
       "3             0      0  Welcome to r/Gemini \\- Community Guidelines an...  \n",
       "4             0      0      Not really and urgent question, just curious   \n",
       "..          ...    ...                                                ...  \n",
       "887          48      9                                                     \n",
       "888          67     71                     We did it everyone congrats!!!  \n",
       "889           9     11  More literature of how our funds have come tog...  \n",
       "890          44      5  Confirmation of the Plan remains under review,...  \n",
       "891          24      1  Does anyone know if it’ll be next week or in t...  \n",
       "\n",
       "[892 rows x 6 columns]"
      ]
     },
     "execution_count": 27,
     "metadata": {},
     "output_type": "execute_result"
    }
   ],
   "source": [
    "co_df"
   ]
  },
  {
   "cell_type": "markdown",
   "id": "1fe4a81f",
   "metadata": {},
   "source": [
    "# Saving data to sqlite"
   ]
  },
  {
   "cell_type": "code",
   "execution_count": 29,
   "id": "536b114f",
   "metadata": {},
   "outputs": [
    {
     "data": {
      "text/plain": [
       "892"
      ]
     },
     "execution_count": 29,
     "metadata": {},
     "output_type": "execute_result"
    }
   ],
   "source": [
    "import sqlite3\n",
    "\n",
    "con = sqlite3.connect(\"co_reddit.sqlite\")\n",
    "co_df.to_sql('posts', con, if_exists='replace', index=False)"
   ]
  },
  {
   "cell_type": "code",
   "execution_count": 30,
   "id": "7d519201",
   "metadata": {},
   "outputs": [
    {
     "data": {
      "text/html": [
       "<div>\n",
       "<style scoped>\n",
       "    .dataframe tbody tr th:only-of-type {\n",
       "        vertical-align: middle;\n",
       "    }\n",
       "\n",
       "    .dataframe tbody tr th {\n",
       "        vertical-align: top;\n",
       "    }\n",
       "\n",
       "    .dataframe thead th {\n",
       "        text-align: right;\n",
       "    }\n",
       "</style>\n",
       "<table border=\"1\" class=\"dataframe\">\n",
       "  <thead>\n",
       "    <tr style=\"text-align: right;\">\n",
       "      <th></th>\n",
       "      <th>title</th>\n",
       "      <th>link</th>\n",
       "      <th>author</th>\n",
       "      <th>n_comments</th>\n",
       "      <th>score</th>\n",
       "      <th>text</th>\n",
       "    </tr>\n",
       "  </thead>\n",
       "  <tbody>\n",
       "    <tr>\n",
       "      <th>0</th>\n",
       "      <td>Security hold on BTC for over a month</td>\n",
       "      <td>/r/Gemini/comments/1j3hm24/security_hold_on_bt...</td>\n",
       "      <td>av8er1978</td>\n",
       "      <td>1</td>\n",
       "      <td>1</td>\n",
       "      <td>I've emailed supp multiple times, I've sent th...</td>\n",
       "    </tr>\n",
       "    <tr>\n",
       "      <th>1</th>\n",
       "      <td>Staking on Gemini</td>\n",
       "      <td>/r/Gemini/comments/1j3geo5/staking_on_gemini/</td>\n",
       "      <td>FrankieBaggaDonuts</td>\n",
       "      <td>0</td>\n",
       "      <td>1</td>\n",
       "      <td>Anyone know if we'll be getting staking on Gem...</td>\n",
       "    </tr>\n",
       "    <tr>\n",
       "      <th>2</th>\n",
       "      <td>Any promo codes?</td>\n",
       "      <td>/r/Gemini/comments/1j3970s/any_promo_codes/</td>\n",
       "      <td>Lucky-Honeydew4289</td>\n",
       "      <td>6</td>\n",
       "      <td>0</td>\n",
       "      <td>Hello, does anyone have any promo code for new...</td>\n",
       "    </tr>\n",
       "    <tr>\n",
       "      <th>3</th>\n",
       "      <td>Ask r/Gemini - Monthly Discussion Thread March...</td>\n",
       "      <td>/r/Gemini/comments/1j339d9/ask_rgemini_monthly...</td>\n",
       "      <td>Gemini_Gianna</td>\n",
       "      <td>0</td>\n",
       "      <td>0</td>\n",
       "      <td>Welcome to r/Gemini \\- Community Guidelines an...</td>\n",
       "    </tr>\n",
       "    <tr>\n",
       "      <th>4</th>\n",
       "      <td>How long after new login location can I send c...</td>\n",
       "      <td>/r/Gemini/comments/1j2vxl2/how_long_after_new_...</td>\n",
       "      <td>ZeroGirlsSB</td>\n",
       "      <td>0</td>\n",
       "      <td>0</td>\n",
       "      <td>Not really and urgent question, just curious</td>\n",
       "    </tr>\n",
       "    <tr>\n",
       "      <th>...</th>\n",
       "      <td>...</td>\n",
       "      <td>...</td>\n",
       "      <td>...</td>\n",
       "      <td>...</td>\n",
       "      <td>...</td>\n",
       "      <td>...</td>\n",
       "    </tr>\n",
       "    <tr>\n",
       "      <th>887</th>\n",
       "      <td>Are we receiving the interest for the last cou...</td>\n",
       "      <td>/r/Gemini/comments/1cuyoib/are_we_receiving_th...</td>\n",
       "      <td>Remarkable3897</td>\n",
       "      <td>48</td>\n",
       "      <td>9</td>\n",
       "      <td></td>\n",
       "    </tr>\n",
       "    <tr>\n",
       "      <th>888</th>\n",
       "      <td>Gemini update</td>\n",
       "      <td>/r/Gemini/comments/1cumf0p/gemini_update/</td>\n",
       "      <td>Pizzaholic-</td>\n",
       "      <td>67</td>\n",
       "      <td>71</td>\n",
       "      <td>We did it everyone congrats!!!</td>\n",
       "    </tr>\n",
       "    <tr>\n",
       "      <th>889</th>\n",
       "      <td>Memorandum of Decision</td>\n",
       "      <td>/r/Gemini/comments/1cujxtu/memorandum_of_decis...</td>\n",
       "      <td>Previous_Pension_309</td>\n",
       "      <td>9</td>\n",
       "      <td>11</td>\n",
       "      <td>More literature of how our funds have come tog...</td>\n",
       "    </tr>\n",
       "    <tr>\n",
       "      <th>890</th>\n",
       "      <td>Donut update 5/17/24</td>\n",
       "      <td>/r/Gemini/comments/1cuffcg/donut_update_51724/</td>\n",
       "      <td>No_Spirit_3173</td>\n",
       "      <td>44</td>\n",
       "      <td>5</td>\n",
       "      <td>Confirmation of the Plan remains under review,...</td>\n",
       "    </tr>\n",
       "    <tr>\n",
       "      <th>891</th>\n",
       "      <td>Earn</td>\n",
       "      <td>/r/Gemini/comments/1cuchkq/earn/</td>\n",
       "      <td>SithiestSithEver</td>\n",
       "      <td>24</td>\n",
       "      <td>1</td>\n",
       "      <td>Does anyone know if it’ll be next week or in t...</td>\n",
       "    </tr>\n",
       "  </tbody>\n",
       "</table>\n",
       "<p>892 rows × 6 columns</p>\n",
       "</div>"
      ],
      "text/plain": [
       "                                                 title  \\\n",
       "0                Security hold on BTC for over a month   \n",
       "1                                    Staking on Gemini   \n",
       "2                                     Any promo codes?   \n",
       "3    Ask r/Gemini - Monthly Discussion Thread March...   \n",
       "4    How long after new login location can I send c...   \n",
       "..                                                 ...   \n",
       "887  Are we receiving the interest for the last cou...   \n",
       "888                                     Gemini update    \n",
       "889                            Memorandum of Decision    \n",
       "890                               Donut update 5/17/24   \n",
       "891                                               Earn   \n",
       "\n",
       "                                                  link                author  \\\n",
       "0    /r/Gemini/comments/1j3hm24/security_hold_on_bt...             av8er1978   \n",
       "1        /r/Gemini/comments/1j3geo5/staking_on_gemini/    FrankieBaggaDonuts   \n",
       "2          /r/Gemini/comments/1j3970s/any_promo_codes/    Lucky-Honeydew4289   \n",
       "3    /r/Gemini/comments/1j339d9/ask_rgemini_monthly...         Gemini_Gianna   \n",
       "4    /r/Gemini/comments/1j2vxl2/how_long_after_new_...           ZeroGirlsSB   \n",
       "..                                                 ...                   ...   \n",
       "887  /r/Gemini/comments/1cuyoib/are_we_receiving_th...        Remarkable3897   \n",
       "888          /r/Gemini/comments/1cumf0p/gemini_update/           Pizzaholic-   \n",
       "889  /r/Gemini/comments/1cujxtu/memorandum_of_decis...  Previous_Pension_309   \n",
       "890     /r/Gemini/comments/1cuffcg/donut_update_51724/        No_Spirit_3173   \n",
       "891                   /r/Gemini/comments/1cuchkq/earn/      SithiestSithEver   \n",
       "\n",
       "     n_comments  score                                               text  \n",
       "0             1      1  I've emailed supp multiple times, I've sent th...  \n",
       "1             0      1  Anyone know if we'll be getting staking on Gem...  \n",
       "2             6      0  Hello, does anyone have any promo code for new...  \n",
       "3             0      0  Welcome to r/Gemini \\- Community Guidelines an...  \n",
       "4             0      0      Not really and urgent question, just curious   \n",
       "..          ...    ...                                                ...  \n",
       "887          48      9                                                     \n",
       "888          67     71                     We did it everyone congrats!!!  \n",
       "889           9     11  More literature of how our funds have come tog...  \n",
       "890          44      5  Confirmation of the Plan remains under review,...  \n",
       "891          24      1  Does anyone know if it’ll be next week or in t...  \n",
       "\n",
       "[892 rows x 6 columns]"
      ]
     },
     "execution_count": 30,
     "metadata": {},
     "output_type": "execute_result"
    }
   ],
   "source": [
    "co_df_check = pd.read_sql_query('SELECT * FROM posts;', con)\n",
    "con.close()\n",
    "co_df_check"
   ]
  },
  {
   "cell_type": "markdown",
   "id": "e27d64c7",
   "metadata": {},
   "source": [
    "# Basic EDA on our data"
   ]
  },
  {
   "cell_type": "markdown",
   "id": "b3101aac",
   "metadata": {},
   "source": [
    "- wordcount plots\n",
    "- bar plot\n",
    "- numeric eda plots"
   ]
  },
  {
   "cell_type": "code",
   "execution_count": 31,
   "id": "0c9292bb",
   "metadata": {},
   "outputs": [
    {
     "data": {
      "text/plain": [
       "<Axes: ylabel='Frequency'>"
      ]
     },
     "execution_count": 31,
     "metadata": {},
     "output_type": "execute_result"
    },
    {
     "data": {
      "image/png": "[encoded data removed]",
      "text/plain": [
       "<Figure size 640x480 with 1 Axes>"
      ]
     },
     "metadata": {},
     "output_type": "display_data"
    }
   ],
   "source": [
    "co_df['score'].plot.hist(bins=40)"
   ]
  },
  {
   "cell_type": "code",
   "execution_count": 36,
   "id": "2101c791",
   "metadata": {},
   "outputs": [
    {
     "data": {
      "text/html": [
       "<div>\n",
       "<style scoped>\n",
       "    .dataframe tbody tr th:only-of-type {\n",
       "        vertical-align: middle;\n",
       "    }\n",
       "\n",
       "    .dataframe tbody tr th {\n",
       "        vertical-align: top;\n",
       "    }\n",
       "\n",
       "    .dataframe thead th {\n",
       "        text-align: right;\n",
       "    }\n",
       "</style>\n",
       "<table border=\"1\" class=\"dataframe\">\n",
       "  <thead>\n",
       "    <tr style=\"text-align: right;\">\n",
       "      <th></th>\n",
       "      <th>title</th>\n",
       "      <th>link</th>\n",
       "      <th>author</th>\n",
       "      <th>n_comments</th>\n",
       "      <th>score</th>\n",
       "      <th>text</th>\n",
       "    </tr>\n",
       "  </thead>\n",
       "  <tbody>\n",
       "    <tr>\n",
       "      <th>822</th>\n",
       "      <td>I cried</td>\n",
       "      <td>/r/Gemini/comments/1d3fadz/i_cried/</td>\n",
       "      <td>Ok_Plan_2461</td>\n",
       "      <td>37</td>\n",
       "      <td>154</td>\n",
       "      <td>I can finally put my down payment on my house ...</td>\n",
       "    </tr>\n",
       "    <tr>\n",
       "      <th>834</th>\n",
       "      <td>Congratulations!! Feel so unreal after 1.5 yea...</td>\n",
       "      <td>/r/Gemini/comments/1d3dllb/congratulations_fee...</td>\n",
       "      <td>Realistic_Bee379</td>\n",
       "      <td>92</td>\n",
       "      <td>218</td>\n",
       "      <td>Congratulations to you all!!! Feel so unreal b...</td>\n",
       "    </tr>\n",
       "    <tr>\n",
       "      <th>838</th>\n",
       "      <td>Distribution Available!</td>\n",
       "      <td>/r/Gemini/comments/1d3d2s6/distribution_availa...</td>\n",
       "      <td>Naive-Duck-1122</td>\n",
       "      <td>213</td>\n",
       "      <td>184</td>\n",
       "      <td>Just logged in (had GUSD) and was just able to...</td>\n",
       "    </tr>\n",
       "  </tbody>\n",
       "</table>\n",
       "</div>"
      ],
      "text/plain": [
       "                                                 title  \\\n",
       "822                                           I cried    \n",
       "834  Congratulations!! Feel so unreal after 1.5 yea...   \n",
       "838                            Distribution Available!   \n",
       "\n",
       "                                                  link            author  \\\n",
       "822                /r/Gemini/comments/1d3fadz/i_cried/      Ok_Plan_2461   \n",
       "834  /r/Gemini/comments/1d3dllb/congratulations_fee...  Realistic_Bee379   \n",
       "838  /r/Gemini/comments/1d3d2s6/distribution_availa...   Naive-Duck-1122   \n",
       "\n",
       "     n_comments  score                                               text  \n",
       "822          37    154  I can finally put my down payment on my house ...  \n",
       "834          92    218  Congratulations to you all!!! Feel so unreal b...  \n",
       "838         213    184  Just logged in (had GUSD) and was just able to...  "
      ]
     },
     "execution_count": 36,
     "metadata": {},
     "output_type": "execute_result"
    }
   ],
   "source": [
    "co_df[co_df['score'] > 150]"
   ]
  },
  {
   "cell_type": "code",
   "execution_count": 38,
   "id": "d7e35061",
   "metadata": {},
   "outputs": [
    {
     "data": {
      "text/plain": [
       "['/r/Gemini/comments/1d3fadz/i_cried/',\n",
       " '/r/Gemini/comments/1d3dllb/congratulations_feel_so_unreal_after_15_years/',\n",
       " '/r/Gemini/comments/1d3d2s6/distribution_available/']"
      ]
     },
     "execution_count": 38,
     "metadata": {},
     "output_type": "execute_result"
    }
   ],
   "source": [
    "co_df[co_df['score'] > 150]['link'].to_list()"
   ]
  },
  {
   "cell_type": "code",
   "execution_count": 42,
   "id": "e3dbdcb0",
   "metadata": {},
   "outputs": [
    {
     "data": {
      "text/plain": [
       "<Axes: >"
      ]
     },
     "execution_count": 42,
     "metadata": {},
     "output_type": "execute_result"
    },
    {
     "data": {
      "image/png": "[encoded data removed]",
      "text/plain": [
       "<Figure size 640x480 with 1 Axes>"
      ]
     },
     "metadata": {},
     "output_type": "display_data"
    }
   ],
   "source": [
    "co_df.boxplot('n_comments')"
   ]
  },
  {
   "cell_type": "code",
   "execution_count": 40,
   "id": "53619041",
   "metadata": {},
   "outputs": [
    {
     "data": {
      "image/png": "[encoded data removed]",
      "text/plain": [
       "<Figure size 640x480 with 1 Axes>"
      ]
     },
     "metadata": {},
     "output_type": "display_data"
    }
   ],
   "source": [
    "import matplotlib.pyplot as plt\n",
    "co_df.boxplot('n_comments')\n",
    "plt.yscale('log')"
   ]
  },
  {
   "cell_type": "code",
   "execution_count": 43,
   "id": "51c0e7d3",
   "metadata": {},
   "outputs": [
    {
     "data": {
      "text/plain": [
       "<Axes: xlabel='score', ylabel='n_comments'>"
      ]
     },
     "execution_count": 43,
     "metadata": {},
     "output_type": "execute_result"
    },
    {
     "data": {
      "image/png": "[encoded data removed]",
      "text/plain": [
       "<Figure size 640x480 with 1 Axes>"
      ]
     },
     "metadata": {},
     "output_type": "display_data"
    }
   ],
   "source": [
    "co_df.plot.scatter(x='score', y='n_comments')"
   ]
  },
  {
   "cell_type": "code",
   "execution_count": 44,
   "id": "cf81bfd7",
   "metadata": {},
   "outputs": [
    {
     "data": {
      "text/plain": [
       "<Axes: xlabel='author'>"
      ]
     },
     "execution_count": 44,
     "metadata": {},
     "output_type": "execute_result"
    },
    {
     "data": {
      "image/png": "[encoded data removed]",
      "text/plain": [
       "<Figure size 640x480 with 1 Axes>"
      ]
     },
     "metadata": {},
     "output_type": "display_data"
    }
   ],
   "source": [
    "co_df['author'].value_counts()[:10].plot.bar()"
   ]
  },
  {
   "cell_type": "code",
   "execution_count": 46,
   "id": "931b7b29",
   "metadata": {},
   "outputs": [
    {
     "data": {
      "text/html": [
       "<div>\n",
       "<style scoped>\n",
       "    .dataframe tbody tr th:only-of-type {\n",
       "        vertical-align: middle;\n",
       "    }\n",
       "\n",
       "    .dataframe tbody tr th {\n",
       "        vertical-align: top;\n",
       "    }\n",
       "\n",
       "    .dataframe thead th {\n",
       "        text-align: right;\n",
       "    }\n",
       "</style>\n",
       "<table border=\"1\" class=\"dataframe\">\n",
       "  <thead>\n",
       "    <tr style=\"text-align: right;\">\n",
       "      <th></th>\n",
       "      <th>title</th>\n",
       "      <th>link</th>\n",
       "      <th>author</th>\n",
       "      <th>n_comments</th>\n",
       "      <th>score</th>\n",
       "      <th>text</th>\n",
       "    </tr>\n",
       "  </thead>\n",
       "  <tbody>\n",
       "    <tr>\n",
       "      <th>556</th>\n",
       "      <td>Polygon Integration</td>\n",
       "      <td>/r/Gemini/comments/1fnnknm/polygon_integration/</td>\n",
       "      <td>nategrayy</td>\n",
       "      <td>2</td>\n",
       "      <td>7</td>\n",
       "      <td>There are hundreds of cases across Reddit, twi...</td>\n",
       "    </tr>\n",
       "    <tr>\n",
       "      <th>658</th>\n",
       "      <td>Polygon Integration</td>\n",
       "      <td>/r/Gemini/comments/1ef2zfj/polygon_integration/</td>\n",
       "      <td>nategrayy</td>\n",
       "      <td>3</td>\n",
       "      <td>5</td>\n",
       "      <td>Any updates on Polygon Network Integration? Fr...</td>\n",
       "    </tr>\n",
       "    <tr>\n",
       "      <th>664</th>\n",
       "      <td>Polygon Integration</td>\n",
       "      <td>/r/Gemini/comments/1ebybha/polygon_integration/</td>\n",
       "      <td>nategrayy</td>\n",
       "      <td>2</td>\n",
       "      <td>3</td>\n",
       "      <td>Any updates on Polygon Network being integrate...</td>\n",
       "    </tr>\n",
       "    <tr>\n",
       "      <th>750</th>\n",
       "      <td>Funds stuck in Limbo.</td>\n",
       "      <td>/r/Gemini/comments/1dezn60/funds_stuck_in_limbo/</td>\n",
       "      <td>nategrayy</td>\n",
       "      <td>11</td>\n",
       "      <td>1</td>\n",
       "      <td>Does anyone know what is stoping Gemini from r...</td>\n",
       "    </tr>\n",
       "  </tbody>\n",
       "</table>\n",
       "</div>"
      ],
      "text/plain": [
       "                     title                                              link  \\\n",
       "556    Polygon Integration   /r/Gemini/comments/1fnnknm/polygon_integration/   \n",
       "658    Polygon Integration   /r/Gemini/comments/1ef2zfj/polygon_integration/   \n",
       "664    Polygon Integration   /r/Gemini/comments/1ebybha/polygon_integration/   \n",
       "750  Funds stuck in Limbo.  /r/Gemini/comments/1dezn60/funds_stuck_in_limbo/   \n",
       "\n",
       "        author  n_comments  score  \\\n",
       "556  nategrayy           2      7   \n",
       "658  nategrayy           3      5   \n",
       "664  nategrayy           2      3   \n",
       "750  nategrayy          11      1   \n",
       "\n",
       "                                                  text  \n",
       "556  There are hundreds of cases across Reddit, twi...  \n",
       "658  Any updates on Polygon Network Integration? Fr...  \n",
       "664  Any updates on Polygon Network being integrate...  \n",
       "750  Does anyone know what is stoping Gemini from r...  "
      ]
     },
     "execution_count": 46,
     "metadata": {},
     "output_type": "execute_result"
    }
   ],
   "source": [
    "co_df[co_df['author'] == 'nategrayy']"
   ]
  },
  {
   "cell_type": "code",
   "execution_count": null,
   "id": "2e06d648",
   "metadata": {},
   "outputs": [
    {
     "data": {
      "text/plain": [
       "[('Gemini', 235),\n",
       " ('to', 198),\n",
       " ('my', 125),\n",
       " ('the', 105),\n",
       " ('on', 89),\n",
       " ('a', 80),\n",
       " ('I', 77),\n",
       " ('account', 76),\n",
       " ('for', 73),\n",
       " ('and', 70),\n",
       " ('is', 66),\n",
       " ('in', 60),\n",
       " ('of', 58),\n",
       " ('-', 44),\n",
       " ('not', 43),\n",
       " ('Account', 41),\n",
       " ('withdraw', 39),\n",
       " ('with', 38),\n",
       " ('from', 38),\n",
       " ('you', 33),\n",
       " ('Is', 31),\n",
       " ('it', 31),\n",
       " ('Security', 30),\n",
       " ('hold', 29),\n",
       " ('How', 27),\n",
       " ('this', 27),\n",
       " ('crypto', 26),\n",
       " ('withdrawal', 24),\n",
       " ('or', 23),\n",
       " ('do', 23)]"
      ]
     },
     "execution_count": 49,
     "metadata": {},
     "output_type": "execute_result"
    }
   ],
   "source": [
    "import nltk\n",
    "fd = nltk.FreqDist(' '.join(co_df['title']).split())\n",
    "\n",
    "fd.most_common(30)"
   ]
  },
  {
   "cell_type": "code",
   "execution_count": 50,
   "id": "087ae801",
   "metadata": {},
   "outputs": [
    {
     "data": {
      "text/plain": [
       "<Axes: xlabel='Samples', ylabel='Counts'>"
      ]
     },
     "execution_count": 50,
     "metadata": {},
     "output_type": "execute_result"
    },
    {
     "data": {
      "image/png": "[encoded data removed]",
      "text/plain": [
       "<Figure size 640x480 with 1 Axes>"
      ]
     },
     "metadata": {},
     "output_type": "display_data"
    }
   ],
   "source": [
    "fd.plot(30)"
   ]
  },
  {
   "cell_type": "code",
   "execution_count": 51,
   "id": "0082c89e",
   "metadata": {},
   "outputs": [
    {
     "name": "stderr",
     "output_type": "stream",
     "text": [
      "[nltk_data] Downloading package stopwords to\n",
      "[nltk_data]     C:\\Users\\ksaig\\AppData\\Roaming\\nltk_data...\n",
      "[nltk_data]   Unzipping corpora\\stopwords.zip.\n"
     ]
    },
    {
     "data": {
      "text/plain": [
       "True"
      ]
     },
     "execution_count": 51,
     "metadata": {},
     "output_type": "execute_result"
    }
   ],
   "source": [
    "nltk.download('stopwords')"
   ]
  },
  {
   "cell_type": "code",
   "execution_count": 52,
   "id": "b7c020af",
   "metadata": {},
   "outputs": [
    {
     "data": {
      "text/plain": [
       "['a',\n",
       " 'about',\n",
       " 'above',\n",
       " 'after',\n",
       " 'again',\n",
       " 'against',\n",
       " 'ain',\n",
       " 'all',\n",
       " 'am',\n",
       " 'an',\n",
       " 'and',\n",
       " 'any',\n",
       " 'are',\n",
       " 'aren',\n",
       " \"aren't\",\n",
       " 'as',\n",
       " 'at',\n",
       " 'be',\n",
       " 'because',\n",
       " 'been',\n",
       " 'before',\n",
       " 'being',\n",
       " 'below',\n",
       " 'between',\n",
       " 'both',\n",
       " 'but',\n",
       " 'by',\n",
       " 'can',\n",
       " 'couldn',\n",
       " \"couldn't\",\n",
       " 'd',\n",
       " 'did',\n",
       " 'didn',\n",
       " \"didn't\",\n",
       " 'do',\n",
       " 'does',\n",
       " 'doesn',\n",
       " \"doesn't\",\n",
       " 'doing',\n",
       " 'don',\n",
       " \"don't\",\n",
       " 'down',\n",
       " 'during',\n",
       " 'each',\n",
       " 'few',\n",
       " 'for',\n",
       " 'from',\n",
       " 'further',\n",
       " 'had',\n",
       " 'hadn',\n",
       " \"hadn't\",\n",
       " 'has',\n",
       " 'hasn',\n",
       " \"hasn't\",\n",
       " 'have',\n",
       " 'haven',\n",
       " \"haven't\",\n",
       " 'having',\n",
       " 'he',\n",
       " \"he'd\",\n",
       " \"he'll\",\n",
       " 'her',\n",
       " 'here',\n",
       " 'hers',\n",
       " 'herself',\n",
       " \"he's\",\n",
       " 'him',\n",
       " 'himself',\n",
       " 'his',\n",
       " 'how',\n",
       " 'i',\n",
       " \"i'd\",\n",
       " 'if',\n",
       " \"i'll\",\n",
       " \"i'm\",\n",
       " 'in',\n",
       " 'into',\n",
       " 'is',\n",
       " 'isn',\n",
       " \"isn't\",\n",
       " 'it',\n",
       " \"it'd\",\n",
       " \"it'll\",\n",
       " \"it's\",\n",
       " 'its',\n",
       " 'itself',\n",
       " \"i've\",\n",
       " 'just',\n",
       " 'll',\n",
       " 'm',\n",
       " 'ma',\n",
       " 'me',\n",
       " 'mightn',\n",
       " \"mightn't\",\n",
       " 'more',\n",
       " 'most',\n",
       " 'mustn',\n",
       " \"mustn't\",\n",
       " 'my',\n",
       " 'myself',\n",
       " 'needn',\n",
       " \"needn't\",\n",
       " 'no',\n",
       " 'nor',\n",
       " 'not',\n",
       " 'now',\n",
       " 'o',\n",
       " 'of',\n",
       " 'off',\n",
       " 'on',\n",
       " 'once',\n",
       " 'only',\n",
       " 'or',\n",
       " 'other',\n",
       " 'our',\n",
       " 'ours',\n",
       " 'ourselves',\n",
       " 'out',\n",
       " 'over',\n",
       " 'own',\n",
       " 're',\n",
       " 's',\n",
       " 'same',\n",
       " 'shan',\n",
       " \"shan't\",\n",
       " 'she',\n",
       " \"she'd\",\n",
       " \"she'll\",\n",
       " \"she's\",\n",
       " 'should',\n",
       " 'shouldn',\n",
       " \"shouldn't\",\n",
       " \"should've\",\n",
       " 'so',\n",
       " 'some',\n",
       " 'such',\n",
       " 't',\n",
       " 'than',\n",
       " 'that',\n",
       " \"that'll\",\n",
       " 'the',\n",
       " 'their',\n",
       " 'theirs',\n",
       " 'them',\n",
       " 'themselves',\n",
       " 'then',\n",
       " 'there',\n",
       " 'these',\n",
       " 'they',\n",
       " \"they'd\",\n",
       " \"they'll\",\n",
       " \"they're\",\n",
       " \"they've\",\n",
       " 'this',\n",
       " 'those',\n",
       " 'through',\n",
       " 'to',\n",
       " 'too',\n",
       " 'under',\n",
       " 'until',\n",
       " 'up',\n",
       " 've',\n",
       " 'very',\n",
       " 'was',\n",
       " 'wasn',\n",
       " \"wasn't\",\n",
       " 'we',\n",
       " \"we'd\",\n",
       " \"we'll\",\n",
       " \"we're\",\n",
       " 'were',\n",
       " 'weren',\n",
       " \"weren't\",\n",
       " \"we've\",\n",
       " 'what',\n",
       " 'when',\n",
       " 'where',\n",
       " 'which',\n",
       " 'while',\n",
       " 'who',\n",
       " 'whom',\n",
       " 'why',\n",
       " 'will',\n",
       " 'with',\n",
       " 'won',\n",
       " \"won't\",\n",
       " 'wouldn',\n",
       " \"wouldn't\",\n",
       " 'y',\n",
       " 'you',\n",
       " \"you'd\",\n",
       " \"you'll\",\n",
       " 'your',\n",
       " \"you're\",\n",
       " 'yours',\n",
       " 'yourself',\n",
       " 'yourselves',\n",
       " \"you've\"]"
      ]
     },
     "execution_count": 52,
     "metadata": {},
     "output_type": "execute_result"
    }
   ],
   "source": [
    "from nltk.corpus import stopwords\n",
    "stops = stopwords.words('english')\n",
    "stops"
   ]
  },
  {
   "cell_type": "code",
   "execution_count": 53,
   "id": "1b247d04",
   "metadata": {},
   "outputs": [],
   "source": [
    "words = ' '.join(co_df['title']).lower().split()\n",
    "cleaned_words = [w for w in words if w not in set(stops)]"
   ]
  },
  {
   "cell_type": "code",
   "execution_count": 56,
   "id": "e2180f1f",
   "metadata": {},
   "outputs": [
    {
     "data": {
      "text/plain": [
       "[('gemini', 259),\n",
       " ('account', 118),\n",
       " ('security', 49),\n",
       " ('hold', 49),\n",
       " ('withdraw', 47),\n",
       " ('-', 44),\n",
       " ('crypto', 38),\n",
       " ('help', 37),\n",
       " ('card', 34),\n",
       " ('please', 32),\n",
       " ('credit', 31),\n",
       " ('withdrawal', 31),\n",
       " ('funds', 27),\n",
       " ('earn', 26),\n",
       " ('bitcoin', 25),\n",
       " ('unable', 23),\n",
       " ('anyone', 23),\n",
       " ('money', 23),\n",
       " ('transfer', 21),\n",
       " (\"can't\", 20),\n",
       " ('need', 19),\n",
       " ('new', 18),\n",
       " ('update', 18),\n",
       " ('escalate', 18),\n",
       " ('donut', 18),\n",
       " ('use', 17),\n",
       " ('customer', 16),\n",
       " ('still', 16),\n",
       " ('get', 16),\n",
       " ('froze', 16)]"
      ]
     },
     "execution_count": 56,
     "metadata": {},
     "output_type": "execute_result"
    }
   ],
   "source": [
    "cleaned_fd = nltk.FreqDist(cleaned_words)\n",
    "cleaned_fd.most_common(30)"
   ]
  },
  {
   "cell_type": "code",
   "execution_count": 57,
   "id": "2f7d295b",
   "metadata": {},
   "outputs": [
    {
     "data": {
      "text/plain": [
       "<Axes: xlabel='Samples', ylabel='Counts'>"
      ]
     },
     "execution_count": 57,
     "metadata": {},
     "output_type": "execute_result"
    },
    {
     "data": {
      "image/png": "[encoded data removed]",
      "text/plain": [
       "<Figure size 640x480 with 1 Axes>"
      ]
     },
     "metadata": {},
     "output_type": "display_data"
    }
   ],
   "source": [
    "cleaned_fd.plot(30)"
   ]
  },
  {
   "cell_type": "markdown",
   "id": "ec5fce48",
   "metadata": {},
   "source": [
    "# Analysis"
   ]
  },
  {
   "cell_type": "markdown",
   "id": "ed918e12",
   "metadata": {},
   "source": [
    "Write a short analysis of the process and results here."
   ]
  },
  {
   "cell_type": "markdown",
   "id": "40cef7ba",
   "metadata": {},
   "source": [
    "\n",
    "We use praw (Python Reddit API Wrapper) to fetch posts in the r/Gemini subreddit.\n",
    "Fetches the primary information like title, author, score, comment number, and text content.\n",
    "Data Storage\n",
    "\n",
    "Than Stores the fetched data into an SQLite3 database.\n",
    "Stores data in a table named \"posts\".\n",
    "Exploratory Data Analysis (EDA)\n",
    "\n",
    "Histograms: Plots the distribution of scores.\n",
    "\n",
    "Boxplots: Plots the spread of comments with a logarithmic scale.\n",
    "\n",
    "Scatter Plot: Analyzes correlation between number of comments and score.\n",
    "\n",
    "Bar Charts: Presents most common Reddit authors by frequency of posts.\n",
    "\n",
    "Word Frequency Analysis: Uses nltk to determine most common words used in post titles.\n",
    "\n",
    "Stopword Removal & Cleaning: Eliminates common English words to constrain word frequency results.\n",
    "\n",
    "Results & Insights\n",
    "\n",
    "Posts that have a high score garner more engagement.\n",
    "Some writers publish more frequently.\n",
    "Common words that are used within the titles refer to popular threads on the subreddit."
   ]
  }
 ],
 "metadata": {
  "kernelspec": {
   "display_name": "regis",
   "language": "python",
   "name": "python3"
  },
  "language_info": {
   "codemirror_mode": {
    "name": "ipython",
    "version": 3
   },
   "file_extension": ".py",
   "mimetype": "text/x-python",
   "name": "python",
   "nbconvert_exporter": "python",
   "pygments_lexer": "ipython3",
   "version": "3.10.16"
  }
 },
 "nbformat": 4,
 "nbformat_minor": 5
}
